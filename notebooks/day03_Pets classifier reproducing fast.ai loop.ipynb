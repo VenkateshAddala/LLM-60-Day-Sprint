{
 "cells": [
  {
   "cell_type": "code",
   "execution_count": 1,
   "id": "a920c1a9",
   "metadata": {},
   "outputs": [
    {
     "name": "stdout",
     "output_type": "stream",
     "text": [
      "Downloading http://fashion-mnist.s3-website.eu-central-1.amazonaws.com/train-images-idx3-ubyte.gz\n",
      "Downloading http://fashion-mnist.s3-website.eu-central-1.amazonaws.com/train-images-idx3-ubyte.gz to data/FashionMNIST/raw/train-images-idx3-ubyte.gz\n"
     ]
    },
    {
     "name": "stderr",
     "output_type": "stream",
     "text": [
      "100.0%\n"
     ]
    },
    {
     "name": "stdout",
     "output_type": "stream",
     "text": [
      "Extracting data/FashionMNIST/raw/train-images-idx3-ubyte.gz to data/FashionMNIST/raw\n",
      "\n",
      "Downloading http://fashion-mnist.s3-website.eu-central-1.amazonaws.com/train-labels-idx1-ubyte.gz\n",
      "Downloading http://fashion-mnist.s3-website.eu-central-1.amazonaws.com/train-labels-idx1-ubyte.gz to data/FashionMNIST/raw/train-labels-idx1-ubyte.gz\n"
     ]
    },
    {
     "name": "stderr",
     "output_type": "stream",
     "text": [
      "100.0%\n"
     ]
    },
    {
     "name": "stdout",
     "output_type": "stream",
     "text": [
      "Extracting data/FashionMNIST/raw/train-labels-idx1-ubyte.gz to data/FashionMNIST/raw\n",
      "\n",
      "Downloading http://fashion-mnist.s3-website.eu-central-1.amazonaws.com/t10k-images-idx3-ubyte.gz\n",
      "Downloading http://fashion-mnist.s3-website.eu-central-1.amazonaws.com/t10k-images-idx3-ubyte.gz to data/FashionMNIST/raw/t10k-images-idx3-ubyte.gz\n"
     ]
    },
    {
     "name": "stderr",
     "output_type": "stream",
     "text": [
      "100.0%\n"
     ]
    },
    {
     "name": "stdout",
     "output_type": "stream",
     "text": [
      "Extracting data/FashionMNIST/raw/t10k-images-idx3-ubyte.gz to data/FashionMNIST/raw\n",
      "\n",
      "Downloading http://fashion-mnist.s3-website.eu-central-1.amazonaws.com/t10k-labels-idx1-ubyte.gz\n",
      "Downloading http://fashion-mnist.s3-website.eu-central-1.amazonaws.com/t10k-labels-idx1-ubyte.gz to data/FashionMNIST/raw/t10k-labels-idx1-ubyte.gz\n"
     ]
    },
    {
     "name": "stderr",
     "output_type": "stream",
     "text": [
      "100.0%"
     ]
    },
    {
     "name": "stdout",
     "output_type": "stream",
     "text": [
      "Extracting data/FashionMNIST/raw/t10k-labels-idx1-ubyte.gz to data/FashionMNIST/raw\n",
      "\n"
     ]
    },
    {
     "name": "stderr",
     "output_type": "stream",
     "text": [
      "\n"
     ]
    }
   ],
   "source": [
    "from torchvision import datasets, transforms\n",
    "transform = transforms.ToTensor()\n",
    "train_ds = datasets.FashionMNIST(\"data\", train=True,  download=True, transform=transform)\n",
    "test_ds  = datasets.FashionMNIST(\"data\", train=False, download=True, transform=transform)"
   ]
  },
  {
   "cell_type": "code",
   "execution_count": 2,
   "id": "49cc1b83",
   "metadata": {},
   "outputs": [],
   "source": [
    "from torch.utils.data import DataLoader\n",
    "train_dl = DataLoader(train_ds, batch_size=64, shuffle=True)\n",
    "test_dl  = DataLoader(test_ds , batch_size=256)\n"
   ]
  },
  {
   "cell_type": "code",
   "execution_count": 5,
   "id": "d1c4d50d",
   "metadata": {},
   "outputs": [],
   "source": [
    "import torch\n",
    "import torch.nn as nn\n",
    "\n",
    "class MLP(nn.Module):\n",
    "    def __init__(self):\n",
    "        super().__init__()\n",
    "        self.net = nn.Sequential(\n",
    "            nn.Flatten(),               # 28×28 → 784\n",
    "            nn.Linear(784, 256), nn.ReLU(),\n",
    "            nn.Linear(256,128),  nn.ReLU(),\n",
    "            nn.Linear(128, 10)          # logits\n",
    "        )\n",
    "    def forward(self, x): return self.net(x)\n",
    "\n",
    "device = (\"cuda\" if torch.cuda.is_available()\n",
    "          else \"mps\" if torch.backends.mps.is_available()\n",
    "          else \"cpu\")\n",
    "model = MLP().to(device)"
   ]
  },
  {
   "cell_type": "code",
   "execution_count": 6,
   "id": "fe47802b",
   "metadata": {},
   "outputs": [
    {
     "name": "stdout",
     "output_type": "stream",
     "text": [
      "Epoch 1: loss 0.685 | train 75.3% | test 75.7%\n",
      "Epoch 2: loss 0.433 | train 84.2% | test 83.1%\n",
      "Epoch 3: loss 0.384 | train 86.0% | test 84.3%\n",
      "Epoch 4: loss 0.355 | train 86.9% | test 84.8%\n",
      "Epoch 5: loss 0.332 | train 87.7% | test 86.6%\n"
     ]
    }
   ],
   "source": [
    "import torch, torch.optim as optim\n",
    "loss_fn  = nn.CrossEntropyLoss()\n",
    "opt      = optim.SGD(model.parameters(), lr=0.1)\n",
    "\n",
    "epochs = 5\n",
    "for ep in range(epochs):\n",
    "    model.train()\n",
    "    correct, total_loss = 0, 0\n",
    "    for X,y in train_dl:\n",
    "        X,y = X.to(device), y.to(device)\n",
    "        opt.zero_grad()\n",
    "        logits = model(X)\n",
    "        loss   = loss_fn(logits, y)\n",
    "        loss.backward()\n",
    "        opt.step()\n",
    "\n",
    "        total_loss += loss.item()*X.size(0)\n",
    "        correct    += (logits.argmax(1) == y).sum().item()\n",
    "\n",
    "    train_acc = correct / len(train_ds)\n",
    "\n",
    "    # quick test pass\n",
    "    model.eval(); test_correct=0\n",
    "    with torch.no_grad():\n",
    "        for X,y in test_dl:\n",
    "            X = X.to(device); y = y.to(device)\n",
    "            test_correct += (model(X).argmax(1)==y).sum().item()\n",
    "    test_acc = test_correct / len(test_ds)\n",
    "    print(f\"Epoch {ep+1}: loss {total_loss/len(train_ds):.3f} | \"\n",
    "          f\"train {train_acc:.1%} | test {test_acc:.1%}\")\n"
   ]
  }
 ],
 "metadata": {
  "kernelspec": {
   "display_name": "llm60",
   "language": "python",
   "name": "python3"
  },
  "language_info": {
   "codemirror_mode": {
    "name": "ipython",
    "version": 3
   },
   "file_extension": ".py",
   "mimetype": "text/x-python",
   "name": "python",
   "nbconvert_exporter": "python",
   "pygments_lexer": "ipython3",
   "version": "3.11.11"
  }
 },
 "nbformat": 4,
 "nbformat_minor": 5
}
