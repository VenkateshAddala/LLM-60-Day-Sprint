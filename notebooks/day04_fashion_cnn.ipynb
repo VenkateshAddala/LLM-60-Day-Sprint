{
 "cells": [
  {
   "cell_type": "code",
   "execution_count": null,
   "id": "b4f137d7",
   "metadata": {},
   "outputs": [],
   "source": []
  }
 ],
 "metadata": {
  "kernelspec": {
   "display_name": "llm60",
   "language": "python",
   "name": "python3"
  },
  "language_info": {
   "name": "python",
   "version": "3.11.11"
  }
 },
 "nbformat": 4,
 "nbformat_minor": 5
}
